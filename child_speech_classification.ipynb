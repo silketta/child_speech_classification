{
 "cells": [
  {
   "cell_type": "code",
   "execution_count": 1,
   "metadata": {},
   "outputs": [],
   "source": [
    "import pandas as pd\n",
    "import numpy as np\n",
    "import nltk\n",
    "from nltk.tag import pos_tag\n",
    "from nltk.tokenize import word_tokenize\n",
    "import collections\n",
    "from collections import Counter\n",
    "import sklearn\n",
    "from sklearn import preprocessing\n",
    "from sklearn.preprocessing import LabelEncoder\n",
    "from sklearn.base import BaseEstimator, TransformerMixin\n",
    "from sklearn.feature_extraction.text import CountVectorizer\n",
    "from sklearn.feature_extraction import DictVectorizer\n",
    "from sklearn.feature_extraction.text import TfidfVectorizer\n",
    "from sklearn.feature_extraction.text import TfidfTransformer\n",
    "from sklearn.pipeline import FeatureUnion\n",
    "from sklearn.pipeline import Pipeline\n",
    "from sklearn.model_selection import train_test_split\n",
    "from sklearn.naive_bayes import MultinomialNB\n",
    "from sklearn.ensemble import GradientBoostingClassifier\n",
    "from sklearn import metrics\n",
    "from sklearn.metrics import accuracy_score, confusion_matrix, f1_score, precision_score, classification_report\n",
    "from sklearn.model_selection import GridSearchCV"
   ]
  },
  {
   "cell_type": "code",
   "execution_count": 2,
   "metadata": {},
   "outputs": [],
   "source": [
    "# data\n",
    "\n",
    "corpus = pd.read_csv('combined_corpus.csv', sep='\\t', encoding='utf-8', header=0, index_col=0)\n",
    "corpus = corpus.fillna(\"\")\n",
    "#corpus.head(10)"
   ]
  },
  {
   "cell_type": "code",
   "execution_count": 3,
   "metadata": {},
   "outputs": [
    {
     "data": {
      "text/plain": [
       "TYP    0.861256\n",
       "ASD    0.138744\n",
       "Name: class, dtype: float64"
      ]
     },
     "execution_count": 3,
     "metadata": {},
     "output_type": "execute_result"
    }
   ],
   "source": [
    "# baseline\n",
    "\n",
    "corpus['class'].value_counts() / len(corpus['class'])"
   ]
  },
  {
   "cell_type": "code",
   "execution_count": 4,
   "metadata": {},
   "outputs": [],
   "source": [
    "# encode labels\n",
    "\n",
    "encoder = preprocessing.LabelEncoder()\n",
    "encoder.fit(corpus['class'])\n",
    "labels = encoder.transform(corpus['class'])"
   ]
  },
  {
   "cell_type": "code",
   "execution_count": 5,
   "metadata": {},
   "outputs": [],
   "source": [
    "# train, test sets\n",
    "\n",
    "features = corpus['text']\n",
    "train_X, test_X, train_y, test_y = train_test_split(features, labels,\n",
    "                                                    test_size=.33, \n",
    "                                                    random_state=55)  "
   ]
  },
  {
   "cell_type": "code",
   "execution_count": 6,
   "metadata": {},
   "outputs": [],
   "source": [
    "class TokenCounts(BaseEstimator, TransformerMixin):\n",
    "\n",
    "    def fit(self, X, y=None):\n",
    "        return self\n",
    "    \n",
    "    def transform(self, corpus):\n",
    "        token_counts = []\n",
    "        word_tokenize = [nltk.word_tokenize(sentence) for sentence in corpus]\n",
    "        for word in word_tokenize:\n",
    "            counter = Counter(word)\n",
    "            token_counts.append(counter)\n",
    "        return token_counts"
   ]
  },
  {
   "cell_type": "code",
   "execution_count": 7,
   "metadata": {},
   "outputs": [],
   "source": [
    "class TagCounts(BaseEstimator, TransformerMixin):\n",
    "    \n",
    "    def fit(self, X, y=None):\n",
    "        return self\n",
    "    \n",
    "    def transform(self, corpus):\n",
    "        tag_counts = []\n",
    "        for line in corpus:\n",
    "            tags = [tag[1] for tag in nltk.pos_tag(line.split())]\n",
    "            counter = Counter(tags)\n",
    "            tag_counts.append(counter)\n",
    "        return tag_counts"
   ]
  },
  {
   "cell_type": "code",
   "execution_count": 40,
   "metadata": {},
   "outputs": [],
   "source": [
    "# pipeline model\n",
    "\n",
    "model = Pipeline([\n",
    "        ('features', FeatureUnion(\n",
    "            transformer_list=[ \n",
    "                #('unigram', Pipeline([\n",
    "                    #('cvec', CountVectorizer(analyzer='word',\n",
    "                                             #ngram_range=(1,1),\n",
    "                                             #max_features=255, \n",
    "                                             #max_df=0.5\n",
    "                                             #)),\n",
    "                    #])),\n",
    "                \n",
    "                #('bigram', Pipeline([\n",
    "                    #('cvec', CountVectorizer(analyzer='word',  \n",
    "                                             #ngram_range=(1,2),\n",
    "                                             #max_features=210, \n",
    "                                             #max_df=0.5\n",
    "                                             #)),\n",
    "                    #])),\n",
    "                \n",
    "                #('tfidf_features', Pipeline([\n",
    "                    #('cvec', CountVectorizer(analyzer='word',\n",
    "                                             #stop_words=None,\n",
    "                                             #ngram_range=(1,2),\n",
    "                                             #max_features=210, \n",
    "                                             #max_df=0.5\n",
    "                                             #)),\n",
    "                    #('tfidf', TfidfTransformer(smooth_idf=True,\n",
    "                                               #use_idf=True)),\n",
    "                    #])), \n",
    "                \n",
    "                #('char_features', Pipeline([\n",
    "                    #('tfidf', TfidfVectorizer(analyzer='char',\n",
    "                                              #ngram_range=(1,2),\n",
    "                                              #max_df=0.5, \n",
    "                                              #max_features=200,\n",
    "                                              #use_idf=True\n",
    "                                              #)),\n",
    "                    #])),\n",
    "                \n",
    "                #('NP_features', Pipeline([\n",
    "                    #('NPs', noun_phrases()),\n",
    "                    #('dvec', DictVectorizer()),\n",
    "                    #])),\n",
    "                \n",
    "                ('word_features', Pipeline([\n",
    "                    ('token_counter', TokenCounts()),\n",
    "                    ('dvec', DictVectorizer()),\n",
    "                    ])),\n",
    "                \n",
    "                ('pos_features', Pipeline([\n",
    "                    ('tag_counter', TagCounts()),\n",
    "                    ('dvec', DictVectorizer()),\n",
    "                    ])),\n",
    "                \n",
    "        ])),\n",
    "        #('mnb', MultinomialNB())            \n",
    "        ('gbc', GradientBoostingClassifier(random_state=250, \n",
    "                                           max_features='auto',\n",
    "                                           loss=\"deviance\",\n",
    "                                           n_estimators=950,\n",
    "                                           criterion='friedman_mse' \n",
    "                                           ))\n",
    "])"
   ]
  },
  {
   "cell_type": "code",
   "execution_count": 41,
   "metadata": {},
   "outputs": [],
   "source": [
    "# fit model and make predictions\n",
    "\n",
    "model.fit(train_X, train_y)\n",
    "predictions = model.predict(test_X)"
   ]
  },
  {
   "cell_type": "code",
   "execution_count": 39,
   "metadata": {},
   "outputs": [
    {
     "name": "stdout",
     "output_type": "stream",
     "text": [
      " MNB classifier\n",
      "              precision    recall  f1-score   support\n",
      "\n",
      "           0       0.57      0.18      0.27     12805\n",
      "           1       0.88      0.98      0.93     79897\n",
      "\n",
      "    accuracy                           0.87     92702\n",
      "   macro avg       0.72      0.58      0.60     92702\n",
      "weighted avg       0.84      0.87      0.84     92702\n",
      "\n",
      "confusion matrix\n",
      "[[ 2252 10553]\n",
      " [ 1707 78190]]\n",
      "Accuracy score:\t0.87\n"
     ]
    }
   ],
   "source": [
    "print(' MNB classifier\\n%s' %metrics.classification_report(test_y, predictions))\n",
    "print('confusion matrix\\n%s' % metrics.confusion_matrix(test_y, predictions))\n",
    "print(f\"Accuracy score:\\t{format(metrics.accuracy_score(test_y, predictions), '.2f')}\")"
   ]
  },
  {
   "cell_type": "code",
   "execution_count": 42,
   "metadata": {},
   "outputs": [
    {
     "name": "stdout",
     "output_type": "stream",
     "text": [
      "GBC classifier\n",
      "              precision    recall  f1-score   support\n",
      "\n",
      "           0       0.90      0.08      0.14     12805\n",
      "           1       0.87      1.00      0.93     79897\n",
      "\n",
      "    accuracy                           0.87     92702\n",
      "   macro avg       0.89      0.54      0.54     92702\n",
      "weighted avg       0.87      0.87      0.82     92702\n",
      "\n",
      "confusion matrix\n",
      "[[  972 11833]\n",
      " [  107 79790]]\n",
      "Accuracy score:\t0.87\n"
     ]
    }
   ],
   "source": [
    "print('GBC classifier\\n%s' %metrics.classification_report(test_y, predictions))\n",
    "print('confusion matrix\\n%s' % metrics.confusion_matrix(test_y, predictions))\n",
    "print(f\"Accuracy score:\\t{format(metrics.accuracy_score(test_y, predictions), '.2f')}\")"
   ]
  },
  {
   "cell_type": "markdown",
   "metadata": {},
   "source": [
    "### Grid Search"
   ]
  },
  {
   "cell_type": "code",
   "execution_count": 20,
   "metadata": {},
   "outputs": [],
   "source": [
    "parameters = {\n",
    "        'gbc__random_state': (150, 250, 450),\n",
    "        'gbc__n_estimators': (550, 800, 950),\n",
    "}"
   ]
  },
  {
   "cell_type": "code",
   "execution_count": 21,
   "metadata": {},
   "outputs": [],
   "source": [
    "grid_search = GridSearchCV(model, \n",
    "                           parameters, \n",
    "                           cv=5, \n",
    "                           scoring='accuracy', \n",
    "                           refit=True, \n",
    "                           n_jobs=-1, \n",
    "                           verbose=1)"
   ]
  },
  {
   "cell_type": "code",
   "execution_count": 22,
   "metadata": {},
   "outputs": [
    {
     "name": "stdout",
     "output_type": "stream",
     "text": [
      "Fitting 5 folds for each of 9 candidates, totalling 45 fits\n"
     ]
    },
    {
     "name": "stderr",
     "output_type": "stream",
     "text": [
      "[Parallel(n_jobs=-1)]: Using backend LokyBackend with 4 concurrent workers.\n",
      "[Parallel(n_jobs=-1)]: Done  45 out of  45 | elapsed: 107.4min finished\n"
     ]
    },
    {
     "data": {
      "text/plain": [
       "GridSearchCV(cv=5, error_score='raise-deprecating',\n",
       "             estimator=Pipeline(memory=None,\n",
       "                                steps=[('features',\n",
       "                                        FeatureUnion(n_jobs=None,\n",
       "                                                     transformer_list=[('word_features',\n",
       "                                                                        Pipeline(memory=None,\n",
       "                                                                                 steps=[('token_counter',\n",
       "                                                                                         TokenCounts()),\n",
       "                                                                                        ('dvec',\n",
       "                                                                                         DictVectorizer(dtype=<class 'numpy.float64'>,\n",
       "                                                                                                        separator='=',\n",
       "                                                                                                        sort=True,\n",
       "                                                                                                        sparse=True))],\n",
       "                                                                                 verbose=False)),\n",
       "                                                                       ('pos_features',\n",
       "                                                                        Pipelin...\n",
       "                                                                   n_estimators=950,\n",
       "                                                                   n_iter_no_change=None,\n",
       "                                                                   presort='auto',\n",
       "                                                                   random_state=250,\n",
       "                                                                   subsample=1.0,\n",
       "                                                                   tol=0.0001,\n",
       "                                                                   validation_fraction=0.1,\n",
       "                                                                   verbose=0,\n",
       "                                                                   warm_start=False))],\n",
       "                                verbose=False),\n",
       "             iid='warn', n_jobs=-1,\n",
       "             param_grid={'gbc__n_estimators': (550, 800, 950),\n",
       "                         'gbc__random_state': (150, 250, 450)},\n",
       "             pre_dispatch='2*n_jobs', refit=True, return_train_score=False,\n",
       "             scoring='accuracy', verbose=1)"
      ]
     },
     "execution_count": 22,
     "metadata": {},
     "output_type": "execute_result"
    }
   ],
   "source": [
    "grid_search.fit(train_X, train_y)"
   ]
  },
  {
   "cell_type": "code",
   "execution_count": 23,
   "metadata": {},
   "outputs": [
    {
     "data": {
      "text/plain": [
       "{'gbc__n_estimators': 950, 'gbc__random_state': 250}"
      ]
     },
     "execution_count": 23,
     "metadata": {},
     "output_type": "execute_result"
    }
   ],
   "source": [
    "grid_search.best_params_"
   ]
  }
 ],
 "metadata": {
  "kernelspec": {
   "display_name": "Python 3",
   "language": "python",
   "name": "python3"
  },
  "language_info": {
   "codemirror_mode": {
    "name": "ipython",
    "version": 3
   },
   "file_extension": ".py",
   "mimetype": "text/x-python",
   "name": "python",
   "nbconvert_exporter": "python",
   "pygments_lexer": "ipython3",
   "version": "3.7.4"
  }
 },
 "nbformat": 4,
 "nbformat_minor": 2
}
